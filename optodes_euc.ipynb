{
 "cells": [
  {
   "cell_type": "code",
   "execution_count": 365,
   "metadata": {},
   "outputs": [],
   "source": [
    "import h5py as hf\n",
    "import pyretest as pr\n",
    "import numpy as np\n",
    "from scipy import interpolate\n",
    "import pandas as pd\n",
    "import pingouin as pg\n",
    "import matplotlib.pyplot as plt\n",
    "\n",
    "import mne\n",
    "from mne_bids import BIDSPath, read_raw_bids\n",
    "from mne_nirs.signal_enhancement import (enhance_negative_correlation,\n",
    "                                         short_channel_regression)\n",
    "from mne.preprocessing.nirs import optical_density, beer_lambert_law, scalp_coupling_index, temporal_derivative_distribution_repair\n",
    "from mne.io import read_raw_snirf\n",
    "\n",
    "from itertools import compress\n",
    "from mne import Epochs, events_from_annotations\n",
    "import mne \n",
    "import mne.stats as ms\n",
    "import statsmodels.api as sm\n",
    "from statsmodels.tsa.stattools import ccf, ccovf\n",
    "\n",
    "import scipy.io\n",
    "import os\n"
   ]
  },
  {
   "cell_type": "code",
   "execution_count": 366,
   "metadata": {},
   "outputs": [],
   "source": [
    "def normalize(raw_haemo,epochs):\n",
    "    hold_data_all = epochs[\"1.0\"].average() # take the average of breath holds for this subject\n",
    "    hold_data_all = hold_data_all.get_data() # get the data\n",
    "\n",
    "    max_during_hold = np.max(hold_data_all) # this should be a 1 x num_channels array\n",
    "\n",
    "    z = raw_haemo.get_data() # extract (only long channel) data from oxy and deoxy-hemoglobin concentration matrix\n",
    "    z = np.transpose(z) / max_during_hold # Divide all traces in each channel by the maximum change in concentration during the breath hold.\n",
    "\n",
    "    # We are now in arbitrary units (deltaHb / deltaHb)\n",
    "    raw_haemo._data= np.transpose(z) # replace the data in raw_haemo\n",
    "\n",
    "    return raw_haemo, epochs"
   ]
  },
  {
   "cell_type": "code",
   "execution_count": 367,
   "metadata": {},
   "outputs": [],
   "source": [
    "def individual_analysis(bids_path):\n",
    "    # Read data with annotations in BIDS format\n",
    "    raw_intensity = read_raw_bids(bids_path, verbose=False)\n",
    "\n",
    "    # Convert signal to optical density and determine bad channels\n",
    "    raw_od = optical_density(raw_intensity)\n",
    "    sci = scalp_coupling_index(raw_od, h_freq=1.35, h_trans_bandwidth=0.1)\n",
    "    raw_od.info[\"bads\"] = list(compress(raw_od.ch_names, sci < 0.5))\n",
    "    raw_od.interpolate_bads()\n",
    "\n",
    "    # Downsample and apply signal cleaning techniques\n",
    "    raw_od.resample(1)\n",
    "    raw_od = temporal_derivative_distribution_repair(raw_od)\n",
    "    raw_od = short_channel_regression(raw_od)\n",
    "\n",
    "    # Convert to haemoglobin and filter\n",
    "    raw_haemo = beer_lambert_law(raw_od)\n",
    "    \n",
    "    ## FILTERS OUT HEART RATE\n",
    "    raw_haemo = raw_haemo.filter(None, 0.4,\n",
    "                                 h_trans_bandwidth=0.1, l_trans_bandwidth=0.01,\n",
    "                                 verbose=False)\n",
    "    raw_haemo.annotations.delete(raw_haemo.annotations.description == '15')\n",
    "    \n",
    "    # Apply further data cleaning techniques and extract epochs\n",
    "    raw_haemo = enhance_negative_correlation(raw_haemo)\n",
    "\n",
    "    # raw_haemo = get_long_channels(raw_haemo, min_dist=0.01)\n",
    "\n",
    "    # Pick data channels that are actually informative\n",
    "    roi_channels = mne.pick_channels(raw_haemo.info['ch_names'], include=['Left_PT','Right_PT'])\n",
    "    raw_haemo = raw_haemo.copy().pick_channels(roi_channels)\n",
    "\n",
    "    # Extract events but ignore those with\n",
    "    events, event_dict = events_from_annotations(raw_haemo, verbose=False,\n",
    "                                                 regexp='^(?![Ends]).*$')\n",
    "\n",
    "    epochs = Epochs(raw_haemo, events, event_id=event_dict, tmin=-5, tmax=30,\n",
    "                    reject=dict(hbo=100e-6), reject_by_annotation=True,\n",
    "                    proj=True, baseline=(None, 0), detrend=1,\n",
    "                    preload=True, verbose=False,event_repeated='merge')\n",
    "    \n",
    "    raw_haemo, epochs = normalize(raw_haemo,epochs)\n",
    "\n",
    "    return raw_haemo, epochs"
   ]
  },
  {
   "cell_type": "code",
   "execution_count": 368,
   "metadata": {},
   "outputs": [],
   "source": [
    "# define function to calculate euclidian distance between two points in 3D space\n",
    "def euclidian_distance(x1,y1,z1,x2,y2,z2):\n",
    "    return np.sqrt((x1-x2)**2+(y1-y2)**2+(z1-z2)**2)"
   ]
  },
  {
   "cell_type": "code",
   "execution_count": 369,
   "metadata": {},
   "outputs": [
    {
     "name": "stdout",
     "output_type": "stream",
     "text": [
      "bids_path: C:\\Users\\dalto\\Downloads\\Lab Docs\\optodes\\sub-01\\ses-01\\scans\\opto_MNI.mat\n",
      "dict_keys(['__header__', '__version__', '__globals__', 'opto_MNI'])\n"
     ]
    },
    {
     "data": {
      "text/plain": [
       "(3,)"
      ]
     },
     "metadata": {},
     "output_type": "display_data"
    },
    {
     "name": "stdout",
     "output_type": "stream",
     "text": [
      "elecpos_df: (35, 3)\n",
      "range: 35\n",
      "i (orient): 0\n",
      "i (orient): 1\n",
      "i (orient): 2\n",
      "i (orient): 3\n",
      "i (orient): 4\n",
      "i (source): 5\n",
      "i (source): 6\n",
      "i (source): 7\n",
      "i (source): 8\n",
      "i (source): 9\n",
      "i (source): 10\n",
      "i (source): 11\n",
      "i (source): 12\n",
      "i (source): 13\n",
      "i (source): 14\n",
      "i (source): 15\n",
      "i (source): 16\n",
      "i (source): 17\n",
      "i (source): 18\n",
      "i (source): 19\n",
      "i (source): 20\n",
      "i (detector): 21\n",
      "i (detector): 22\n",
      "i (detector): 23\n",
      "i (detector): 24\n",
      "i (detector): 25\n",
      "i (detector): 26\n",
      "i (detector): 27\n",
      "i (detector): 28\n",
      "i (detector): 29\n",
      "i (detector): 30\n",
      "i (detector): 31\n",
      "i (detector): 32\n",
      "i (detector): 33\n",
      "i (detector): 34\n",
      "bids_path: C:\\Users\\dalto\\Downloads\\Lab Docs\\optodes\\sub-02\\ses-01\\scans\\opto_MNI.mat\n",
      "dict_keys(['__header__', '__version__', '__globals__', 'opto_MNI'])\n"
     ]
    },
    {
     "name": "stderr",
     "output_type": "stream",
     "text": [
      "C:\\Users\\dalto\\AppData\\Local\\Temp\\ipykernel_20872\\7302344.py:49: FutureWarning: The frame.append method is deprecated and will be removed from pandas in a future version. Use pandas.concat instead.\n",
      "  subjects['orientors'][source_key] = subjects['orientors'][source_key].append(elecpos_df.loc[i], ignore_index=True)\n",
      "C:\\Users\\dalto\\AppData\\Local\\Temp\\ipykernel_20872\\7302344.py:57: FutureWarning: The frame.append method is deprecated and will be removed from pandas in a future version. Use pandas.concat instead.\n",
      "  subjects['sources'][source_key] = subjects['sources'][source_key].append(elecpos_df.loc[i], ignore_index=True)\n",
      "C:\\Users\\dalto\\AppData\\Local\\Temp\\ipykernel_20872\\7302344.py:64: FutureWarning: The frame.append method is deprecated and will be removed from pandas in a future version. Use pandas.concat instead.\n",
      "  subjects['detectors'][detector_key] = subjects['detectors'][detector_key].append(elecpos_df.loc[i], ignore_index=True)\n"
     ]
    },
    {
     "data": {
      "text/plain": [
       "(3,)"
      ]
     },
     "metadata": {},
     "output_type": "display_data"
    },
    {
     "name": "stdout",
     "output_type": "stream",
     "text": [
      "elecpos_df: (35, 3)\n",
      "range: 35\n",
      "i (orient): 0\n",
      "i (orient): 1\n",
      "i (orient): 2\n",
      "i (orient): 3\n",
      "i (orient): 4\n",
      "i (source): 5\n",
      "i (source): 6\n",
      "i (source): 7\n",
      "i (source): 8\n",
      "i (source): 9\n",
      "i (source): 10\n",
      "i (source): 11\n",
      "i (source): 12\n",
      "i (source): 13\n",
      "i (source): 14\n",
      "i (source): 15\n",
      "i (source): 16\n",
      "i (source): 17\n",
      "i (source): 18\n",
      "i (source): 19\n",
      "i (source): 20\n",
      "i (detector): 21\n",
      "i (detector): 22\n",
      "i (detector): 23\n",
      "i (detector): 24\n",
      "i (detector): 25\n",
      "i (detector): 26\n",
      "i (detector): 27\n",
      "i (detector): 28\n",
      "i (detector): 29\n",
      "i (detector): 30\n",
      "i (detector): 31\n",
      "i (detector): 32\n",
      "i (detector): 33\n",
      "i (detector): 34\n",
      "bids_path: C:\\Users\\dalto\\Downloads\\Lab Docs\\optodes\\sub-03\\ses-01\\scans\\opto_MNI.mat\n",
      "dict_keys(['__header__', '__version__', '__globals__', 'opto_MNI'])\n"
     ]
    },
    {
     "data": {
      "text/plain": [
       "(3,)"
      ]
     },
     "metadata": {},
     "output_type": "display_data"
    },
    {
     "name": "stdout",
     "output_type": "stream",
     "text": [
      "elecpos_df: (35, 3)\n",
      "range: 35\n",
      "i (orient): 0\n",
      "i (orient): 1\n",
      "i (orient): 2\n",
      "i (orient): 3\n",
      "i (orient): 4\n",
      "i (source): 5\n",
      "i (source): 6\n",
      "i (source): 7\n",
      "i (source): 8\n",
      "i (source): 9\n",
      "i (source): 10\n",
      "i (source): 11\n",
      "i (source): 12\n",
      "i (source): 13\n",
      "i (source): 14\n",
      "i (source): 15\n",
      "i (source): 16\n",
      "i (source): 17\n",
      "i (source): 18\n",
      "i (source): 19\n",
      "i (source): 20\n",
      "i (detector): 21\n",
      "i (detector): 22\n",
      "i (detector): 23\n",
      "i (detector): 24\n",
      "i (detector): 25\n",
      "i (detector): 26\n",
      "i (detector): 27\n",
      "i (detector): 28\n",
      "i (detector): 29\n",
      "i (detector): 30\n",
      "i (detector): 31\n",
      "i (detector): 32\n",
      "i (detector): 33\n",
      "i (detector): 34\n",
      "bids_path: C:\\Users\\dalto\\Downloads\\Lab Docs\\optodes\\sub-04\\ses-01\\scans\\opto_MNI.mat\n",
      "dict_keys(['__header__', '__version__', '__globals__', 'opto_MNI'])\n"
     ]
    },
    {
     "data": {
      "text/plain": [
       "(3,)"
      ]
     },
     "metadata": {},
     "output_type": "display_data"
    },
    {
     "name": "stdout",
     "output_type": "stream",
     "text": [
      "elecpos_df: (35, 3)\n",
      "range: 35\n",
      "i (orient): 0\n",
      "i (orient): 1\n",
      "i (orient): 2\n",
      "i (orient): 3\n",
      "i (orient): 4\n",
      "i (source): 5\n",
      "i (source): 6\n",
      "i (source): 7\n",
      "i (source): 8\n",
      "i (source): 9\n",
      "i (source): 10\n",
      "i (source): 11\n",
      "i (source): 12\n",
      "i (source): 13\n",
      "i (source): 14\n",
      "i (source): 15\n",
      "i (source): 16\n",
      "i (source): 17\n",
      "i (source): 18\n",
      "i (source): 19\n",
      "i (source): 20\n",
      "i (detector): 21\n",
      "i (detector): 22\n",
      "i (detector): 23\n",
      "i (detector): 24\n",
      "i (detector): 25\n",
      "i (detector): 26\n",
      "i (detector): 27\n",
      "i (detector): 28\n",
      "i (detector): 29\n",
      "i (detector): 30\n",
      "i (detector): 31\n",
      "i (detector): 32\n",
      "i (detector): 33\n",
      "i (detector): 34\n",
      "bids_path: C:\\Users\\dalto\\Downloads\\Lab Docs\\optodes\\sub-05\\ses-01\\scans\\opto_MNI.mat\n",
      "dict_keys(['__header__', '__version__', '__globals__', 'opto_MNI'])\n"
     ]
    },
    {
     "data": {
      "text/plain": [
       "(3,)"
      ]
     },
     "metadata": {},
     "output_type": "display_data"
    },
    {
     "name": "stdout",
     "output_type": "stream",
     "text": [
      "elecpos_df: (35, 3)\n",
      "range: 35\n",
      "i (orient): 0\n",
      "i (orient): 1\n",
      "i (orient): 2\n",
      "i (orient): 3\n",
      "i (orient): 4\n",
      "i (source): 5\n",
      "i (source): 6\n",
      "i (source): 7\n",
      "i (source): 8\n",
      "i (source): 9\n",
      "i (source): 10\n",
      "i (source): 11\n",
      "i (source): 12\n",
      "i (source): 13\n",
      "i (source): 14\n",
      "i (source): 15\n",
      "i (source): 16\n",
      "i (source): 17\n",
      "i (source): 18\n",
      "i (source): 19\n",
      "i (source): 20\n",
      "i (detector): 21\n",
      "i (detector): 22\n",
      "i (detector): 23\n",
      "i (detector): 24\n",
      "i (detector): 25\n",
      "i (detector): 26\n",
      "i (detector): 27\n",
      "i (detector): 28\n",
      "i (detector): 29\n",
      "i (detector): 30\n",
      "i (detector): 31\n",
      "i (detector): 32\n",
      "i (detector): 33\n",
      "i (detector): 34\n",
      "bids_path: C:\\Users\\dalto\\Downloads\\Lab Docs\\optodes\\sub-06\\ses-01\\scans\\opto_MNI.mat\n",
      "dict_keys(['__header__', '__version__', '__globals__', 'opto_MNI'])\n"
     ]
    },
    {
     "data": {
      "text/plain": [
       "(3,)"
      ]
     },
     "metadata": {},
     "output_type": "display_data"
    },
    {
     "name": "stdout",
     "output_type": "stream",
     "text": [
      "elecpos_df: (35, 3)\n",
      "range: 35\n",
      "i (orient): 0\n",
      "i (orient): 1\n",
      "i (orient): 2\n",
      "i (orient): 3\n",
      "i (orient): 4\n",
      "i (source): 5\n",
      "i (source): 6\n",
      "i (source): 7\n",
      "i (source): 8\n",
      "i (source): 9\n",
      "i (source): 10\n",
      "i (source): 11\n",
      "i (source): 12\n",
      "i (source): 13\n",
      "i (source): 14\n",
      "i (source): 15\n",
      "i (source): 16\n",
      "i (source): 17\n",
      "i (source): 18\n",
      "i (source): 19\n",
      "i (source): 20\n",
      "i (detector): 21\n",
      "i (detector): 22\n",
      "i (detector): 23\n",
      "i (detector): 24\n",
      "i (detector): 25\n",
      "i (detector): 26\n",
      "i (detector): 27\n",
      "i (detector): 28\n",
      "i (detector): 29\n",
      "i (detector): 30\n",
      "i (detector): 31\n",
      "i (detector): 32\n",
      "i (detector): 33\n",
      "i (detector): 34\n",
      "bids_path: C:\\Users\\dalto\\Downloads\\Lab Docs\\optodes\\sub-07\\ses-01\\scans\\opto_MNI.mat\n",
      "dict_keys(['__header__', '__version__', '__globals__', 'opto_MNI'])\n"
     ]
    },
    {
     "data": {
      "text/plain": [
       "(3,)"
      ]
     },
     "metadata": {},
     "output_type": "display_data"
    },
    {
     "name": "stdout",
     "output_type": "stream",
     "text": [
      "elecpos_df: (35, 3)\n",
      "range: 35\n",
      "i (orient): 0\n",
      "i (orient): 1\n",
      "i (orient): 2\n",
      "i (orient): 3\n",
      "i (orient): 4\n",
      "i (source): 5\n",
      "i (source): 6\n",
      "i (source): 7\n",
      "i (source): 8\n",
      "i (source): 9\n",
      "i (source): 10\n",
      "i (source): 11\n",
      "i (source): 12\n",
      "i (source): 13\n",
      "i (source): 14\n",
      "i (source): 15\n",
      "i (source): 16\n",
      "i (source): 17\n",
      "i (source): 18\n",
      "i (source): 19\n",
      "i (source): 20\n",
      "i (detector): 21\n",
      "i (detector): 22\n",
      "i (detector): 23\n",
      "i (detector): 24\n",
      "i (detector): 25\n",
      "i (detector): 26\n",
      "i (detector): 27\n",
      "i (detector): 28\n",
      "i (detector): 29\n",
      "i (detector): 30\n",
      "i (detector): 31\n",
      "i (detector): 32\n",
      "i (detector): 33\n",
      "i (detector): 34\n",
      "bids_path: C:\\Users\\dalto\\Downloads\\Lab Docs\\optodes\\sub-08\\ses-01\\scans\\opto_MNI.mat\n",
      "dict_keys(['__header__', '__version__', '__globals__', 'opto_MNI'])\n"
     ]
    },
    {
     "data": {
      "text/plain": [
       "(3,)"
      ]
     },
     "metadata": {},
     "output_type": "display_data"
    },
    {
     "name": "stdout",
     "output_type": "stream",
     "text": [
      "elecpos_df: (35, 3)\n",
      "range: 35\n",
      "i (orient): 0\n",
      "i (orient): 1\n",
      "i (orient): 2\n",
      "i (orient): 3\n",
      "i (orient): 4\n",
      "i (source): 5\n",
      "i (source): 6\n",
      "i (source): 7\n",
      "i (source): 8\n",
      "i (source): 9\n",
      "i (source): 10\n",
      "i (source): 11\n",
      "i (source): 12\n",
      "i (source): 13\n",
      "i (source): 14\n",
      "i (source): 15\n",
      "i (source): 16\n",
      "i (source): 17\n",
      "i (source): 18\n",
      "i (source): 19\n",
      "i (source): 20\n",
      "i (detector): 21\n",
      "i (detector): 22\n",
      "i (detector): 23\n",
      "i (detector): 24\n",
      "i (detector): 25\n",
      "i (detector): 26\n",
      "i (detector): 27\n",
      "i (detector): 28\n",
      "i (detector): 29\n",
      "i (detector): 30\n",
      "i (detector): 31\n",
      "i (detector): 32\n",
      "i (detector): 33\n",
      "i (detector): 34\n",
      "bids_path: C:\\Users\\dalto\\Downloads\\Lab Docs\\optodes\\sub-09\\ses-01\\scans\\opto_MNI.mat\n",
      "dict_keys(['__header__', '__version__', '__globals__', 'opto_MNI'])\n"
     ]
    },
    {
     "data": {
      "text/plain": [
       "(3,)"
      ]
     },
     "metadata": {},
     "output_type": "display_data"
    },
    {
     "name": "stdout",
     "output_type": "stream",
     "text": [
      "elecpos_df: (35, 3)\n",
      "range: 35\n",
      "i (orient): 0\n",
      "i (orient): 1\n",
      "i (orient): 2\n",
      "i (orient): 3\n",
      "i (orient): 4\n",
      "i (source): 5\n",
      "i (source): 6\n",
      "i (source): 7\n",
      "i (source): 8\n",
      "i (source): 9\n",
      "i (source): 10\n",
      "i (source): 11\n",
      "i (source): 12\n",
      "i (source): 13\n",
      "i (source): 14\n",
      "i (source): 15\n",
      "i (source): 16\n",
      "i (source): 17\n",
      "i (source): 18\n",
      "i (source): 19\n",
      "i (source): 20\n",
      "i (detector): 21\n",
      "i (detector): 22\n",
      "i (detector): 23\n",
      "i (detector): 24\n",
      "i (detector): 25\n",
      "i (detector): 26\n",
      "i (detector): 27\n",
      "i (detector): 28\n",
      "i (detector): 29\n",
      "i (detector): 30\n",
      "i (detector): 31\n",
      "i (detector): 32\n",
      "i (detector): 33\n",
      "i (detector): 34\n",
      "bids_path: C:\\Users\\dalto\\Downloads\\Lab Docs\\optodes\\sub-10\\ses-01\\scans\\opto_MNI.mat\n",
      "dict_keys(['__header__', '__version__', '__globals__', 'opto_MNI'])\n"
     ]
    },
    {
     "data": {
      "text/plain": [
       "(3,)"
      ]
     },
     "metadata": {},
     "output_type": "display_data"
    },
    {
     "name": "stdout",
     "output_type": "stream",
     "text": [
      "elecpos_df: (35, 3)\n",
      "range: 35\n",
      "i (orient): 0\n",
      "i (orient): 1\n",
      "i (orient): 2\n",
      "i (orient): 3\n",
      "i (orient): 4\n",
      "i (source): 5\n",
      "i (source): 6\n",
      "i (source): 7\n",
      "i (source): 8\n",
      "i (source): 9\n",
      "i (source): 10\n",
      "i (source): 11\n",
      "i (source): 12\n",
      "i (source): 13\n",
      "i (source): 14\n",
      "i (source): 15\n",
      "i (source): 16\n",
      "i (source): 17\n",
      "i (source): 18\n",
      "i (source): 19\n",
      "i (source): 20\n",
      "i (detector): 21\n",
      "i (detector): 22\n",
      "i (detector): 23\n",
      "i (detector): 24\n",
      "i (detector): 25\n",
      "i (detector): 26\n",
      "i (detector): 27\n",
      "i (detector): 28\n",
      "i (detector): 29\n",
      "i (detector): 30\n",
      "i (detector): 31\n",
      "i (detector): 32\n",
      "i (detector): 33\n",
      "i (detector): 34\n",
      "source: \n",
      "\n"
     ]
    },
    {
     "data": {
      "text/html": [
       "<div>\n",
       "<style scoped>\n",
       "    .dataframe tbody tr th:only-of-type {\n",
       "        vertical-align: middle;\n",
       "    }\n",
       "\n",
       "    .dataframe tbody tr th {\n",
       "        vertical-align: top;\n",
       "    }\n",
       "\n",
       "    .dataframe thead th {\n",
       "        text-align: right;\n",
       "    }\n",
       "</style>\n",
       "<table border=\"1\" class=\"dataframe\">\n",
       "  <thead>\n",
       "    <tr style=\"text-align: right;\">\n",
       "      <th></th>\n",
       "      <th>0</th>\n",
       "      <th>1</th>\n",
       "      <th>2</th>\n",
       "    </tr>\n",
       "  </thead>\n",
       "  <tbody>\n",
       "    <tr>\n",
       "      <th>0</th>\n",
       "      <td>50.362547</td>\n",
       "      <td>-92.310712</td>\n",
       "      <td>65.481502</td>\n",
       "    </tr>\n",
       "    <tr>\n",
       "      <th>1</th>\n",
       "      <td>47.997675</td>\n",
       "      <td>-92.799407</td>\n",
       "      <td>53.133097</td>\n",
       "    </tr>\n",
       "    <tr>\n",
       "      <th>2</th>\n",
       "      <td>47.611850</td>\n",
       "      <td>-96.853207</td>\n",
       "      <td>46.195842</td>\n",
       "    </tr>\n",
       "    <tr>\n",
       "      <th>3</th>\n",
       "      <td>50.485760</td>\n",
       "      <td>-97.555847</td>\n",
       "      <td>51.208219</td>\n",
       "    </tr>\n",
       "    <tr>\n",
       "      <th>4</th>\n",
       "      <td>49.017074</td>\n",
       "      <td>-99.508056</td>\n",
       "      <td>44.058732</td>\n",
       "    </tr>\n",
       "    <tr>\n",
       "      <th>5</th>\n",
       "      <td>45.679456</td>\n",
       "      <td>-90.975745</td>\n",
       "      <td>62.994827</td>\n",
       "    </tr>\n",
       "    <tr>\n",
       "      <th>6</th>\n",
       "      <td>48.480104</td>\n",
       "      <td>-89.495102</td>\n",
       "      <td>59.453000</td>\n",
       "    </tr>\n",
       "    <tr>\n",
       "      <th>7</th>\n",
       "      <td>50.533967</td>\n",
       "      <td>-90.152250</td>\n",
       "      <td>58.577761</td>\n",
       "    </tr>\n",
       "    <tr>\n",
       "      <th>8</th>\n",
       "      <td>50.873585</td>\n",
       "      <td>-92.341545</td>\n",
       "      <td>61.729181</td>\n",
       "    </tr>\n",
       "    <tr>\n",
       "      <th>9</th>\n",
       "      <td>47.397283</td>\n",
       "      <td>-88.948611</td>\n",
       "      <td>62.343838</td>\n",
       "    </tr>\n",
       "  </tbody>\n",
       "</table>\n",
       "</div>"
      ],
      "text/plain": [
       "           0          1          2\n",
       "0  50.362547 -92.310712  65.481502\n",
       "1  47.997675 -92.799407  53.133097\n",
       "2  47.611850 -96.853207  46.195842\n",
       "3  50.485760 -97.555847  51.208219\n",
       "4  49.017074 -99.508056  44.058732\n",
       "5  45.679456 -90.975745  62.994827\n",
       "6  48.480104 -89.495102  59.453000\n",
       "7  50.533967 -90.152250  58.577761\n",
       "8  50.873585 -92.341545  61.729181\n",
       "9  47.397283 -88.948611  62.343838"
      ]
     },
     "metadata": {},
     "output_type": "display_data"
    },
    {
     "name": "stdout",
     "output_type": "stream",
     "text": [
      "detector: \n",
      "\n"
     ]
    },
    {
     "data": {
      "text/html": [
       "<div>\n",
       "<style scoped>\n",
       "    .dataframe tbody tr th:only-of-type {\n",
       "        vertical-align: middle;\n",
       "    }\n",
       "\n",
       "    .dataframe tbody tr th {\n",
       "        vertical-align: top;\n",
       "    }\n",
       "\n",
       "    .dataframe thead th {\n",
       "        text-align: right;\n",
       "    }\n",
       "</style>\n",
       "<table border=\"1\" class=\"dataframe\">\n",
       "  <thead>\n",
       "    <tr style=\"text-align: right;\">\n",
       "      <th></th>\n",
       "      <th>0</th>\n",
       "      <th>1</th>\n",
       "      <th>2</th>\n",
       "    </tr>\n",
       "  </thead>\n",
       "  <tbody>\n",
       "    <tr>\n",
       "      <th>0</th>\n",
       "      <td>67.780880</td>\n",
       "      <td>-95.680675</td>\n",
       "      <td>44.163735</td>\n",
       "    </tr>\n",
       "    <tr>\n",
       "      <th>1</th>\n",
       "      <td>62.156237</td>\n",
       "      <td>-95.841232</td>\n",
       "      <td>32.082413</td>\n",
       "    </tr>\n",
       "    <tr>\n",
       "      <th>2</th>\n",
       "      <td>64.546829</td>\n",
       "      <td>-98.104487</td>\n",
       "      <td>27.978524</td>\n",
       "    </tr>\n",
       "    <tr>\n",
       "      <th>3</th>\n",
       "      <td>69.157210</td>\n",
       "      <td>-96.300855</td>\n",
       "      <td>29.313873</td>\n",
       "    </tr>\n",
       "    <tr>\n",
       "      <th>4</th>\n",
       "      <td>64.546932</td>\n",
       "      <td>-102.561521</td>\n",
       "      <td>25.739954</td>\n",
       "    </tr>\n",
       "    <tr>\n",
       "      <th>5</th>\n",
       "      <td>60.100886</td>\n",
       "      <td>-95.804923</td>\n",
       "      <td>42.084760</td>\n",
       "    </tr>\n",
       "    <tr>\n",
       "      <th>6</th>\n",
       "      <td>63.030367</td>\n",
       "      <td>-93.469389</td>\n",
       "      <td>36.434120</td>\n",
       "    </tr>\n",
       "    <tr>\n",
       "      <th>7</th>\n",
       "      <td>64.062544</td>\n",
       "      <td>-95.169149</td>\n",
       "      <td>36.886662</td>\n",
       "    </tr>\n",
       "    <tr>\n",
       "      <th>8</th>\n",
       "      <td>66.230738</td>\n",
       "      <td>-95.822295</td>\n",
       "      <td>40.536635</td>\n",
       "    </tr>\n",
       "    <tr>\n",
       "      <th>9</th>\n",
       "      <td>66.731983</td>\n",
       "      <td>-90.699542</td>\n",
       "      <td>40.974224</td>\n",
       "    </tr>\n",
       "  </tbody>\n",
       "</table>\n",
       "</div>"
      ],
      "text/plain": [
       "           0           1          2\n",
       "0  67.780880  -95.680675  44.163735\n",
       "1  62.156237  -95.841232  32.082413\n",
       "2  64.546829  -98.104487  27.978524\n",
       "3  69.157210  -96.300855  29.313873\n",
       "4  64.546932 -102.561521  25.739954\n",
       "5  60.100886  -95.804923  42.084760\n",
       "6  63.030367  -93.469389  36.434120\n",
       "7  64.062544  -95.169149  36.886662\n",
       "8  66.230738  -95.822295  40.536635\n",
       "9  66.731983  -90.699542  40.974224"
      ]
     },
     "metadata": {},
     "output_type": "display_data"
    },
    {
     "name": "stdout",
     "output_type": "stream",
     "text": [
      "orientor: \n",
      "\n"
     ]
    },
    {
     "data": {
      "text/html": [
       "<div>\n",
       "<style scoped>\n",
       "    .dataframe tbody tr th:only-of-type {\n",
       "        vertical-align: middle;\n",
       "    }\n",
       "\n",
       "    .dataframe tbody tr th {\n",
       "        vertical-align: top;\n",
       "    }\n",
       "\n",
       "    .dataframe thead th {\n",
       "        text-align: right;\n",
       "    }\n",
       "</style>\n",
       "<table border=\"1\" class=\"dataframe\">\n",
       "  <thead>\n",
       "    <tr style=\"text-align: right;\">\n",
       "      <th></th>\n",
       "      <th>0</th>\n",
       "      <th>1</th>\n",
       "      <th>2</th>\n",
       "    </tr>\n",
       "  </thead>\n",
       "  <tbody>\n",
       "    <tr>\n",
       "      <th>0</th>\n",
       "      <td>-0.494617</td>\n",
       "      <td>-9.842698</td>\n",
       "      <td>99.840478</td>\n",
       "    </tr>\n",
       "    <tr>\n",
       "      <th>1</th>\n",
       "      <td>0.880918</td>\n",
       "      <td>-13.536108</td>\n",
       "      <td>97.137714</td>\n",
       "    </tr>\n",
       "    <tr>\n",
       "      <th>2</th>\n",
       "      <td>0.121891</td>\n",
       "      <td>-22.243208</td>\n",
       "      <td>94.513375</td>\n",
       "    </tr>\n",
       "    <tr>\n",
       "      <th>3</th>\n",
       "      <td>6.093777</td>\n",
       "      <td>-15.124624</td>\n",
       "      <td>97.132625</td>\n",
       "    </tr>\n",
       "    <tr>\n",
       "      <th>4</th>\n",
       "      <td>0.870385</td>\n",
       "      <td>-21.499415</td>\n",
       "      <td>95.256371</td>\n",
       "    </tr>\n",
       "    <tr>\n",
       "      <th>5</th>\n",
       "      <td>0.547008</td>\n",
       "      <td>-9.397438</td>\n",
       "      <td>100.137388</td>\n",
       "    </tr>\n",
       "    <tr>\n",
       "      <th>6</th>\n",
       "      <td>-0.151619</td>\n",
       "      <td>-8.910201</td>\n",
       "      <td>100.290078</td>\n",
       "    </tr>\n",
       "    <tr>\n",
       "      <th>7</th>\n",
       "      <td>0.553961</td>\n",
       "      <td>-9.258672</td>\n",
       "      <td>100.180446</td>\n",
       "    </tr>\n",
       "    <tr>\n",
       "      <th>8</th>\n",
       "      <td>0.400899</td>\n",
       "      <td>-9.167000</td>\n",
       "      <td>100.243999</td>\n",
       "    </tr>\n",
       "    <tr>\n",
       "      <th>9</th>\n",
       "      <td>0.390229</td>\n",
       "      <td>-9.170770</td>\n",
       "      <td>100.240009</td>\n",
       "    </tr>\n",
       "  </tbody>\n",
       "</table>\n",
       "</div>"
      ],
      "text/plain": [
       "          0          1           2\n",
       "0 -0.494617  -9.842698   99.840478\n",
       "1  0.880918 -13.536108   97.137714\n",
       "2  0.121891 -22.243208   94.513375\n",
       "3  6.093777 -15.124624   97.132625\n",
       "4  0.870385 -21.499415   95.256371\n",
       "5  0.547008  -9.397438  100.137388\n",
       "6 -0.151619  -8.910201  100.290078\n",
       "7  0.553961  -9.258672  100.180446\n",
       "8  0.400899  -9.167000  100.243999\n",
       "9  0.390229  -9.170770  100.240009"
      ]
     },
     "metadata": {},
     "output_type": "display_data"
    }
   ],
   "source": [
    "subjects = {}\n",
    "sources = {f'S{i+1}': pd.DataFrame() for i in range(num_sources)}\n",
    "detectors = {f'D{i+1}': pd.DataFrame() for i in range(num_dets)}\n",
    "orientors = {orient: pd.DataFrame() for orient in orient_list}\n",
    "\n",
    "subjects = {'sources': sources, 'detectors': detectors, 'orientors': orientors}\n",
    "\n",
    "num_sources = 16\n",
    "num_dets = 14\n",
    "orient_list = ['Nz', 'RPA', 'LPA', 'Cz', 'Fz']\n",
    "\n",
    "o = 0\n",
    "s = 0\n",
    "d = 0\n",
    "\n",
    "for sub in range(1,11):\n",
    "    \n",
    "\n",
    "    subject_id = \"%02d\" % sub\n",
    "\n",
    "    # Create the file path with a raw string\n",
    "    file_path = r\"C:\\Users\\dalto\\Downloads\\Lab Docs\\optodes\\sub-{0}\\ses-01\\scans\\opto_MNI.mat\".format(subject_id)\n",
    "    file_path = os.path.normpath(file_path)\n",
    "    print(f'bids_path: {file_path}')\n",
    "\n",
    "    # Load the .mat file\n",
    "    mat_file = scipy.io.loadmat(file_path)\n",
    "    print(mat_file.keys())\n",
    "\n",
    "    # Extract the 'elecpos' variable from the 'opto_MNI' key\n",
    "    elecpos = np.concatenate(mat_file['opto_MNI']['elecpos'][0])\n",
    "    display(elecpos[0].shape)\n",
    "\n",
    "    # Convert the numpy array to a DataFrame\n",
    "    elecpos_df = pd.DataFrame(elecpos)\n",
    "\n",
    "    # display(elecpos_df)\n",
    "    print(f'elecpos_df: {elecpos_df.shape}')\n",
    "\n",
    "    \n",
    "\n",
    "    print(f'range: {len(elecpos)}')\n",
    "\n",
    "    for i in range(len(elecpos)):\n",
    "        \n",
    "        if i < 5:\n",
    "            print(f'i (orient): {i}')\n",
    "            source_key = orient_list[i]\n",
    "            subjects['orientors'][source_key] = subjects['orientors'][source_key].append(elecpos_df.loc[i], ignore_index=True)\n",
    "            o += 1\n",
    "            # print(f'o: {o}')\n",
    "\n",
    "        # Append each source to the corresponding source DataFrame\n",
    "        if (i > 4) & (i < 21):\n",
    "            print(f'i (source): {i}')\n",
    "            source_key = f'S{i-4}'\n",
    "            subjects['sources'][source_key] = subjects['sources'][source_key].append(elecpos_df.loc[i], ignore_index=True)\n",
    "            s += 1\n",
    "            # print(f's: {s}')\n",
    "\n",
    "        if (i > 20):\n",
    "            print(f'i (detector): {i}')\n",
    "            detector_key = f'D{i-20}'\n",
    "            subjects['detectors'][detector_key] = subjects['detectors'][detector_key].append(elecpos_df.loc[i], ignore_index=True)\n",
    "            d += 1\n",
    "            # print(f'd: {d}')\n",
    "       \n",
    "       \n",
    "        # source_key = f'S{i+1}'\n",
    "        # # print(f'source_key: {source_key}')\n",
    "        # subjects[sub]['sources'][source_key] = pd.DataFrame()\n",
    "        # subjects[sub]['sources'][source_key] = subjects[sub]['sources'][source_key].append(s_pos_df.loc[i], ignore_index=True)\n",
    "\n",
    "print('source: \\n')\n",
    "display(subjects['sources']['S16'])\n",
    "print('detector: \\n')\n",
    "display(subjects['detectors']['D14'])\n",
    "print('orientor: \\n')\n",
    "display(subjects['orientors']['Fz'])"
   ]
  },
  {
   "cell_type": "code",
   "execution_count": 370,
   "metadata": {},
   "outputs": [
    {
     "name": "stdout",
     "output_type": "stream",
     "text": [
      "o: 50\n",
      "s: 160\n",
      "d: 140\n"
     ]
    },
    {
     "data": {
      "text/plain": [
       "(10, 3)"
      ]
     },
     "metadata": {},
     "output_type": "display_data"
    },
    {
     "data": {
      "text/plain": [
       "(10, 3)"
      ]
     },
     "metadata": {},
     "output_type": "display_data"
    },
    {
     "data": {
      "text/plain": [
       "(10, 3)"
      ]
     },
     "metadata": {},
     "output_type": "display_data"
    },
    {
     "data": {
      "text/plain": [
       "(10, 3)"
      ]
     },
     "metadata": {},
     "output_type": "display_data"
    },
    {
     "data": {
      "text/plain": [
       "(10, 3)"
      ]
     },
     "metadata": {},
     "output_type": "display_data"
    },
    {
     "data": {
      "text/plain": [
       "(10, 3)"
      ]
     },
     "metadata": {},
     "output_type": "display_data"
    },
    {
     "data": {
      "text/plain": [
       "(10, 3)"
      ]
     },
     "metadata": {},
     "output_type": "display_data"
    },
    {
     "data": {
      "text/plain": [
       "(10, 3)"
      ]
     },
     "metadata": {},
     "output_type": "display_data"
    },
    {
     "data": {
      "text/plain": [
       "(10, 3)"
      ]
     },
     "metadata": {},
     "output_type": "display_data"
    },
    {
     "data": {
      "text/plain": [
       "(10, 3)"
      ]
     },
     "metadata": {},
     "output_type": "display_data"
    },
    {
     "data": {
      "text/plain": [
       "(10, 3)"
      ]
     },
     "metadata": {},
     "output_type": "display_data"
    },
    {
     "data": {
      "text/plain": [
       "(10, 3)"
      ]
     },
     "metadata": {},
     "output_type": "display_data"
    },
    {
     "data": {
      "text/plain": [
       "(10, 3)"
      ]
     },
     "metadata": {},
     "output_type": "display_data"
    },
    {
     "data": {
      "text/plain": [
       "(10, 3)"
      ]
     },
     "metadata": {},
     "output_type": "display_data"
    },
    {
     "data": {
      "text/plain": [
       "(10, 3)"
      ]
     },
     "metadata": {},
     "output_type": "display_data"
    },
    {
     "data": {
      "text/plain": [
       "(10, 3)"
      ]
     },
     "metadata": {},
     "output_type": "display_data"
    },
    {
     "data": {
      "text/plain": [
       "(10, 3)"
      ]
     },
     "metadata": {},
     "output_type": "display_data"
    },
    {
     "data": {
      "text/plain": [
       "(10, 3)"
      ]
     },
     "metadata": {},
     "output_type": "display_data"
    },
    {
     "data": {
      "text/plain": [
       "(10, 3)"
      ]
     },
     "metadata": {},
     "output_type": "display_data"
    },
    {
     "data": {
      "text/plain": [
       "(10, 3)"
      ]
     },
     "metadata": {},
     "output_type": "display_data"
    },
    {
     "data": {
      "text/plain": [
       "(10, 3)"
      ]
     },
     "metadata": {},
     "output_type": "display_data"
    },
    {
     "data": {
      "text/plain": [
       "(10, 3)"
      ]
     },
     "metadata": {},
     "output_type": "display_data"
    },
    {
     "data": {
      "text/plain": [
       "(10, 3)"
      ]
     },
     "metadata": {},
     "output_type": "display_data"
    },
    {
     "data": {
      "text/plain": [
       "(10, 3)"
      ]
     },
     "metadata": {},
     "output_type": "display_data"
    },
    {
     "data": {
      "text/plain": [
       "(10, 3)"
      ]
     },
     "metadata": {},
     "output_type": "display_data"
    },
    {
     "data": {
      "text/plain": [
       "(10, 3)"
      ]
     },
     "metadata": {},
     "output_type": "display_data"
    },
    {
     "data": {
      "text/plain": [
       "(10, 3)"
      ]
     },
     "metadata": {},
     "output_type": "display_data"
    },
    {
     "data": {
      "text/plain": [
       "(10, 3)"
      ]
     },
     "metadata": {},
     "output_type": "display_data"
    },
    {
     "data": {
      "text/plain": [
       "(10, 3)"
      ]
     },
     "metadata": {},
     "output_type": "display_data"
    },
    {
     "data": {
      "text/plain": [
       "(10, 3)"
      ]
     },
     "metadata": {},
     "output_type": "display_data"
    },
    {
     "data": {
      "text/plain": [
       "(10, 3)"
      ]
     },
     "metadata": {},
     "output_type": "display_data"
    },
    {
     "data": {
      "text/plain": [
       "(10, 3)"
      ]
     },
     "metadata": {},
     "output_type": "display_data"
    },
    {
     "data": {
      "text/plain": [
       "(10, 3)"
      ]
     },
     "metadata": {},
     "output_type": "display_data"
    },
    {
     "data": {
      "text/plain": [
       "(10, 3)"
      ]
     },
     "metadata": {},
     "output_type": "display_data"
    },
    {
     "data": {
      "text/plain": [
       "(10, 3)"
      ]
     },
     "metadata": {},
     "output_type": "display_data"
    }
   ],
   "source": [
    "print(f'o: {o}')\n",
    "print(f's: {s}')\n",
    "print(f'd: {d}')\n",
    "\n",
    "dfs = [subjects['sources'], subjects['detectors'], subjects['orientors']]\n",
    "\n",
    "for df in dfs:\n",
    "    for key in df.keys():\n",
    "        df[key].columns = ['x', 'y', 'z']\n",
    "\n",
    "        display(df[key].shape)"
   ]
  },
  {
   "cell_type": "code",
   "execution_count": 371,
   "metadata": {},
   "outputs": [
    {
     "data": {
      "text/html": [
       "<div>\n",
       "<style scoped>\n",
       "    .dataframe tbody tr th:only-of-type {\n",
       "        vertical-align: middle;\n",
       "    }\n",
       "\n",
       "    .dataframe tbody tr th {\n",
       "        vertical-align: top;\n",
       "    }\n",
       "\n",
       "    .dataframe thead th {\n",
       "        text-align: right;\n",
       "    }\n",
       "</style>\n",
       "<table border=\"1\" class=\"dataframe\">\n",
       "  <thead>\n",
       "    <tr style=\"text-align: right;\">\n",
       "      <th></th>\n",
       "      <th>S1</th>\n",
       "      <th>S2</th>\n",
       "      <th>S3</th>\n",
       "      <th>S4</th>\n",
       "      <th>S5</th>\n",
       "      <th>S6</th>\n",
       "      <th>S7</th>\n",
       "      <th>S8</th>\n",
       "      <th>S9</th>\n",
       "      <th>S10</th>\n",
       "      <th>...</th>\n",
       "      <th>D10</th>\n",
       "      <th>D11</th>\n",
       "      <th>D12</th>\n",
       "      <th>D13</th>\n",
       "      <th>D14</th>\n",
       "      <th>Nz</th>\n",
       "      <th>RPA</th>\n",
       "      <th>LPA</th>\n",
       "      <th>Cz</th>\n",
       "      <th>Fz</th>\n",
       "    </tr>\n",
       "  </thead>\n",
       "  <tbody>\n",
       "    <tr>\n",
       "      <th>x</th>\n",
       "      <td>-62.247383</td>\n",
       "      <td>-79.745013</td>\n",
       "      <td>-59.143251</td>\n",
       "      <td>-89.532888</td>\n",
       "      <td>-99.561638</td>\n",
       "      <td>-90.348705</td>\n",
       "      <td>-77.928398</td>\n",
       "      <td>-56.683311</td>\n",
       "      <td>67.889662</td>\n",
       "      <td>84.816151</td>\n",
       "      <td>...</td>\n",
       "      <td>99.053500</td>\n",
       "      <td>99.212518</td>\n",
       "      <td>92.481016</td>\n",
       "      <td>66.803683</td>\n",
       "      <td>64.834461</td>\n",
       "      <td>-0.738986</td>\n",
       "      <td>-84.118572</td>\n",
       "      <td>86.280237</td>\n",
       "      <td>-2.874780</td>\n",
       "      <td>0.921283</td>\n",
       "    </tr>\n",
       "    <tr>\n",
       "      <th>y</th>\n",
       "      <td>67.586567</td>\n",
       "      <td>40.052486</td>\n",
       "      <td>57.998045</td>\n",
       "      <td>19.268056</td>\n",
       "      <td>-23.218634</td>\n",
       "      <td>-49.623332</td>\n",
       "      <td>-80.170254</td>\n",
       "      <td>-82.659230</td>\n",
       "      <td>60.586532</td>\n",
       "      <td>29.899773</td>\n",
       "      <td>...</td>\n",
       "      <td>-27.063942</td>\n",
       "      <td>-46.896918</td>\n",
       "      <td>-66.335806</td>\n",
       "      <td>-61.792238</td>\n",
       "      <td>-95.945407</td>\n",
       "      <td>86.866226</td>\n",
       "      <td>-15.401687</td>\n",
       "      <td>-19.558623</td>\n",
       "      <td>-118.831119</td>\n",
       "      <td>-12.815013</td>\n",
       "    </tr>\n",
       "    <tr>\n",
       "      <th>z</th>\n",
       "      <td>-7.224072</td>\n",
       "      <td>-12.244333</td>\n",
       "      <td>43.731661</td>\n",
       "      <td>24.159337</td>\n",
       "      <td>-4.712285</td>\n",
       "      <td>31.965363</td>\n",
       "      <td>0.611244</td>\n",
       "      <td>54.538886</td>\n",
       "      <td>-5.403150</td>\n",
       "      <td>-10.392147</td>\n",
       "      <td>...</td>\n",
       "      <td>35.346111</td>\n",
       "      <td>17.759099</td>\n",
       "      <td>2.559493</td>\n",
       "      <td>72.286859</td>\n",
       "      <td>35.619490</td>\n",
       "      <td>-39.648856</td>\n",
       "      <td>-52.492592</td>\n",
       "      <td>-48.699596</td>\n",
       "      <td>-12.530100</td>\n",
       "      <td>98.497248</td>\n",
       "    </tr>\n",
       "  </tbody>\n",
       "</table>\n",
       "<p>3 rows × 35 columns</p>\n",
       "</div>"
      ],
      "text/plain": [
       "          S1         S2         S3         S4         S5         S6  \\\n",
       "x -62.247383 -79.745013 -59.143251 -89.532888 -99.561638 -90.348705   \n",
       "y  67.586567  40.052486  57.998045  19.268056 -23.218634 -49.623332   \n",
       "z  -7.224072 -12.244333  43.731661  24.159337  -4.712285  31.965363   \n",
       "\n",
       "          S7         S8         S9        S10  ...        D10        D11  \\\n",
       "x -77.928398 -56.683311  67.889662  84.816151  ...  99.053500  99.212518   \n",
       "y -80.170254 -82.659230  60.586532  29.899773  ... -27.063942 -46.896918   \n",
       "z   0.611244  54.538886  -5.403150 -10.392147  ...  35.346111  17.759099   \n",
       "\n",
       "         D12        D13        D14         Nz        RPA        LPA  \\\n",
       "x  92.481016  66.803683  64.834461  -0.738986 -84.118572  86.280237   \n",
       "y -66.335806 -61.792238 -95.945407  86.866226 -15.401687 -19.558623   \n",
       "z   2.559493  72.286859  35.619490 -39.648856 -52.492592 -48.699596   \n",
       "\n",
       "           Cz         Fz  \n",
       "x   -2.874780   0.921283  \n",
       "y -118.831119 -12.815013  \n",
       "z  -12.530100  98.497248  \n",
       "\n",
       "[3 rows x 35 columns]"
      ]
     },
     "metadata": {},
     "output_type": "display_data"
    }
   ],
   "source": [
    "# create a new frame with the mean x,y,z coordinates for each source, detector, and orientor\n",
    "means = pd.DataFrame()\n",
    "for df in dfs:\n",
    "    # display(df)\n",
    "    for key in df.keys():\n",
    "        # display(df[key])\n",
    "        means[key] = df[key].mean()\n",
    "        means[key] = means[key]\n",
    "        # display(means[key])\n",
    "        \n",
    "display(means)"
   ]
  },
  {
   "cell_type": "code",
   "execution_count": 372,
   "metadata": {},
   "outputs": [],
   "source": [
    "def add_mean (df):\n",
    "    mean_dist_array = np.array([])\n",
    "    for i in range(len(df[key])):\n",
    "        x1 = df[key]['x'].iloc[i]\n",
    "        y1 = df[key]['y'].iloc[i]\n",
    "        z1 = df[key]['z'].iloc[i]\n",
    "\n",
    "        x2 = means[key]['x']\n",
    "        y2 = means[key]['y']\n",
    "        z2 = means[key]['z']\n",
    "\n",
    "        mean_dist = euclidian_distance(x1,y1,z1,x2,y2,z2)\n",
    "\n",
    "        mean_dist_array = np.append(mean_dist_array, mean_dist)\n",
    "\n",
    "    df[key]['mean_dist'] = mean_dist_array\n"
   ]
  },
  {
   "cell_type": "code",
   "execution_count": 373,
   "metadata": {},
   "outputs": [
    {
     "data": {
      "text/html": [
       "<div>\n",
       "<style scoped>\n",
       "    .dataframe tbody tr th:only-of-type {\n",
       "        vertical-align: middle;\n",
       "    }\n",
       "\n",
       "    .dataframe tbody tr th {\n",
       "        vertical-align: top;\n",
       "    }\n",
       "\n",
       "    .dataframe thead th {\n",
       "        text-align: right;\n",
       "    }\n",
       "</style>\n",
       "<table border=\"1\" class=\"dataframe\">\n",
       "  <thead>\n",
       "    <tr style=\"text-align: right;\">\n",
       "      <th></th>\n",
       "      <th>x</th>\n",
       "      <th>y</th>\n",
       "      <th>z</th>\n",
       "      <th>mean_dist</th>\n",
       "    </tr>\n",
       "  </thead>\n",
       "  <tbody>\n",
       "    <tr>\n",
       "      <th>0</th>\n",
       "      <td>-58.669485</td>\n",
       "      <td>67.102365</td>\n",
       "      <td>-6.352039</td>\n",
       "      <td>3.714330</td>\n",
       "    </tr>\n",
       "    <tr>\n",
       "      <th>1</th>\n",
       "      <td>-63.202221</td>\n",
       "      <td>67.511196</td>\n",
       "      <td>-7.419831</td>\n",
       "      <td>0.977609</td>\n",
       "    </tr>\n",
       "    <tr>\n",
       "      <th>2</th>\n",
       "      <td>-64.822611</td>\n",
       "      <td>69.304134</td>\n",
       "      <td>-1.238232</td>\n",
       "      <td>6.738851</td>\n",
       "    </tr>\n",
       "    <tr>\n",
       "      <th>3</th>\n",
       "      <td>-63.714439</td>\n",
       "      <td>69.805873</td>\n",
       "      <td>-3.031859</td>\n",
       "      <td>4.965100</td>\n",
       "    </tr>\n",
       "    <tr>\n",
       "      <th>4</th>\n",
       "      <td>-58.907229</td>\n",
       "      <td>68.503653</td>\n",
       "      <td>-6.592127</td>\n",
       "      <td>3.520941</td>\n",
       "    </tr>\n",
       "    <tr>\n",
       "      <th>5</th>\n",
       "      <td>-59.342648</td>\n",
       "      <td>69.781670</td>\n",
       "      <td>-10.366128</td>\n",
       "      <td>4.809207</td>\n",
       "    </tr>\n",
       "    <tr>\n",
       "      <th>6</th>\n",
       "      <td>-62.966368</td>\n",
       "      <td>65.525874</td>\n",
       "      <td>-8.739186</td>\n",
       "      <td>2.656872</td>\n",
       "    </tr>\n",
       "    <tr>\n",
       "      <th>7</th>\n",
       "      <td>-66.770465</td>\n",
       "      <td>64.540121</td>\n",
       "      <td>-9.864712</td>\n",
       "      <td>6.059050</td>\n",
       "    </tr>\n",
       "    <tr>\n",
       "      <th>8</th>\n",
       "      <td>-61.300574</td>\n",
       "      <td>65.787329</td>\n",
       "      <td>-9.404823</td>\n",
       "      <td>2.981506</td>\n",
       "    </tr>\n",
       "    <tr>\n",
       "      <th>9</th>\n",
       "      <td>-62.777787</td>\n",
       "      <td>68.003457</td>\n",
       "      <td>-9.231780</td>\n",
       "      <td>2.118022</td>\n",
       "    </tr>\n",
       "  </tbody>\n",
       "</table>\n",
       "</div>"
      ],
      "text/plain": [
       "           x          y          z  mean_dist\n",
       "0 -58.669485  67.102365  -6.352039   3.714330\n",
       "1 -63.202221  67.511196  -7.419831   0.977609\n",
       "2 -64.822611  69.304134  -1.238232   6.738851\n",
       "3 -63.714439  69.805873  -3.031859   4.965100\n",
       "4 -58.907229  68.503653  -6.592127   3.520941\n",
       "5 -59.342648  69.781670 -10.366128   4.809207\n",
       "6 -62.966368  65.525874  -8.739186   2.656872\n",
       "7 -66.770465  64.540121  -9.864712   6.059050\n",
       "8 -61.300574  65.787329  -9.404823   2.981506\n",
       "9 -62.777787  68.003457  -9.231780   2.118022"
      ]
     },
     "metadata": {},
     "output_type": "display_data"
    }
   ],
   "source": [
    "# calculate the euclidian distance between each source, detector, orientor, and their mean\n",
    "mean_dist_array = np.empty(0)\n",
    "mean_dist = 0\n",
    "# run for S1 to S6\n",
    "# for key in subjects['sources'][f'S{i}']:\n",
    "import math\n",
    "for df in dfs:\n",
    "    for i in range(1,len(subjects['sources'])+1):\n",
    "        if df == subjects['sources']:\n",
    "            key = f'S{i}'\n",
    "            add_mean(df)\n",
    "        elif (df == subjects['detectors']) & (i < 15):\n",
    "            key = f'D{i}'\n",
    "            add_mean(df)\n",
    "        elif (df == subjects['orientors']) & (i < 6):\n",
    "            key = orient_list[i-1]\n",
    "            add_mean(df)\n",
    "        mean_dist_array = np.empty(0)\n",
    "\n",
    "display(subjects['sources']['S1'])\n"
   ]
  },
  {
   "cell_type": "code",
   "execution_count": 374,
   "metadata": {},
   "outputs": [
    {
     "name": "stderr",
     "output_type": "stream",
     "text": [
      "C:\\Users\\dalto\\AppData\\Local\\Temp\\ipykernel_20872\\2428226024.py:8: FutureWarning: The frame.append method is deprecated and will be removed from pandas in a future version. Use pandas.concat instead.\n",
      "  sources_all = sources_all.append(subjects['sources'][key], ignore_index=True)\n",
      "C:\\Users\\dalto\\AppData\\Local\\Temp\\ipykernel_20872\\2428226024.py:12: FutureWarning: The frame.append method is deprecated and will be removed from pandas in a future version. Use pandas.concat instead.\n",
      "  dets_all = dets_all.append(subjects['detectors'][key], ignore_index=True)\n",
      "C:\\Users\\dalto\\AppData\\Local\\Temp\\ipykernel_20872\\2428226024.py:16: FutureWarning: The frame.append method is deprecated and will be removed from pandas in a future version. Use pandas.concat instead.\n",
      "  ors_all = ors_all.append(subjects['orientors'][key], ignore_index=True)\n",
      "C:\\Users\\dalto\\AppData\\Local\\Temp\\ipykernel_20872\\2428226024.py:30: SettingWithCopyWarning: \n",
      "A value is trying to be set on a copy of a slice from a DataFrame\n",
      "\n",
      "See the caveats in the documentation: https://pandas.pydata.org/pandas-docs/stable/user_guide/indexing.html#returning-a-view-versus-a-copy\n",
      "  ors_all['Orientor ID'].iloc[i*10:i*10+10] = orient_list[i]\n"
     ]
    }
   ],
   "source": [
    "# add all sources to a single dataframe\n",
    "sources_all = pd.DataFrame()\n",
    "dets_all = pd.DataFrame()\n",
    "ors_all = pd.DataFrame()\n",
    "\n",
    "for i in range(1,17):\n",
    "    key = f'S{i}'\n",
    "    sources_all = sources_all.append(subjects['sources'][key], ignore_index=True)\n",
    "\n",
    "for i in range(1,15):\n",
    "    key = f'D{i}'\n",
    "    dets_all = dets_all.append(subjects['detectors'][key], ignore_index=True)\n",
    "\n",
    "for i in range(0,4):\n",
    "    key = orient_list[i]\n",
    "    ors_all = ors_all.append(subjects['orientors'][key], ignore_index=True)\n",
    "\n",
    "# add a subject column to each dataframe that increases by 1 every row and resets to 1 every 16 the source, 14th detector, and 4th orientor\n",
    "sources_all['subject'] = np.tile(np.arange(1,11),16)\n",
    "dets_all['subject'] = np.tile(np.arange(1,11),14)\n",
    "ors_all['subject'] = np.tile(np.arange(1,11),4)\n",
    "\n",
    "# add a ID column to each dataframe that increases once per 16th souce, 14th detector, and 4th orientor\n",
    "sources_all[f'Source ID'] = np.repeat(np.arange(1,17),10)\n",
    "dets_all[f'Detector ID'] = np.repeat(np.arange(1,15),10)\n",
    "ors_all[f'Orientor ID'] = np.repeat(np.arange(1,5),10)\n",
    "\n",
    "# swap the value in the ID column of the ors_all for its key in the orient_list \n",
    "for i in range(0,4):\n",
    "    ors_all['Orientor ID'].iloc[i*10:i*10+10] = orient_list[i]\n",
    "\n",
    "# move the ID and subject columns to the front of each frame\n",
    "for i in range(0,2):\n",
    "    cols = list(sources_all.columns)\n",
    "    cols = [cols[-1]] + cols[:-1]\n",
    "    sources_all = sources_all[cols]\n",
    "\n",
    "    cols = list(dets_all.columns)\n",
    "    cols = [cols[-1]] + cols[:-1]\n",
    "    dets_all = dets_all[cols]\n",
    "\n",
    "    cols = list(ors_all.columns)\n",
    "    cols = [cols[-1]] + cols[:-1]\n",
    "    ors_all = ors_all[cols]\n",
    "\n",
    "# set the index as the value in subject column\n",
    "sources_all = sources_all.set_index('subject')\n",
    "dets_all = dets_all.set_index('subject')\n",
    "ors_all = ors_all.set_index('subject')"
   ]
  },
  {
   "cell_type": "code",
   "execution_count": 385,
   "metadata": {},
   "outputs": [
    {
     "data": {
      "text/html": [
       "<div>\n",
       "<style scoped>\n",
       "    .dataframe tbody tr th:only-of-type {\n",
       "        vertical-align: middle;\n",
       "    }\n",
       "\n",
       "    .dataframe tbody tr th {\n",
       "        vertical-align: top;\n",
       "    }\n",
       "\n",
       "    .dataframe thead th {\n",
       "        text-align: right;\n",
       "    }\n",
       "</style>\n",
       "<table border=\"1\" class=\"dataframe\">\n",
       "  <thead>\n",
       "    <tr style=\"text-align: right;\">\n",
       "      <th></th>\n",
       "      <th>S16</th>\n",
       "    </tr>\n",
       "  </thead>\n",
       "  <tbody>\n",
       "    <tr>\n",
       "      <th>0</th>\n",
       "      <td>3.854149</td>\n",
       "    </tr>\n",
       "    <tr>\n",
       "      <th>1</th>\n",
       "      <td>4.715332</td>\n",
       "    </tr>\n",
       "    <tr>\n",
       "      <th>2</th>\n",
       "      <td>3.393118</td>\n",
       "    </tr>\n",
       "    <tr>\n",
       "      <th>3</th>\n",
       "      <td>4.169569</td>\n",
       "    </tr>\n",
       "    <tr>\n",
       "      <th>4</th>\n",
       "      <td>4.661176</td>\n",
       "    </tr>\n",
       "    <tr>\n",
       "      <th>5</th>\n",
       "      <td>5.655449</td>\n",
       "    </tr>\n",
       "    <tr>\n",
       "      <th>6</th>\n",
       "      <td>6.615603</td>\n",
       "    </tr>\n",
       "    <tr>\n",
       "      <th>7</th>\n",
       "      <td>6.641749</td>\n",
       "    </tr>\n",
       "    <tr>\n",
       "      <th>8</th>\n",
       "      <td>4.759336</td>\n",
       "    </tr>\n",
       "    <tr>\n",
       "      <th>9</th>\n",
       "      <td>5.311358</td>\n",
       "    </tr>\n",
       "    <tr>\n",
       "      <th>10</th>\n",
       "      <td>5.645835</td>\n",
       "    </tr>\n",
       "    <tr>\n",
       "      <th>11</th>\n",
       "      <td>5.313371</td>\n",
       "    </tr>\n",
       "    <tr>\n",
       "      <th>12</th>\n",
       "      <td>6.152867</td>\n",
       "    </tr>\n",
       "    <tr>\n",
       "      <th>13</th>\n",
       "      <td>6.245817</td>\n",
       "    </tr>\n",
       "    <tr>\n",
       "      <th>14</th>\n",
       "      <td>5.907333</td>\n",
       "    </tr>\n",
       "    <tr>\n",
       "      <th>15</th>\n",
       "      <td>7.390124</td>\n",
       "    </tr>\n",
       "  </tbody>\n",
       "</table>\n",
       "</div>"
      ],
      "text/plain": [
       "         S16\n",
       "0   3.854149\n",
       "1   4.715332\n",
       "2   3.393118\n",
       "3   4.169569\n",
       "4   4.661176\n",
       "5   5.655449\n",
       "6   6.615603\n",
       "7   6.641749\n",
       "8   4.759336\n",
       "9   5.311358\n",
       "10  5.645835\n",
       "11  5.313371\n",
       "12  6.152867\n",
       "13  6.245817\n",
       "14  5.907333\n",
       "15  7.390124"
      ]
     },
     "metadata": {},
     "output_type": "display_data"
    }
   ],
   "source": [
    "# create a new frame with the mean x,y,z coordinates for each source, detector, and orientor\n",
    "means_all = pd.DataFrame()\n",
    "means_array = np.empty(0)\n",
    "for df in dfs:\n",
    "    # print(df)\n",
    "    # for key in df.keys():\n",
    "    #     display(df[key].shape)\n",
    "    #     mean = df[key]['mean_dist'].mean()\n",
    "    #     print(mean)\n",
    "    #     means_array = np.append(means_array, mean)\n",
    "\n",
    "    #     # add the mean distance to the mean frame\n",
    "    # means_all[key] = means_array\n",
    "    #     # display(means[key])\n",
    "\n",
    "    \n",
    "    if df == subjects['sources']:\n",
    "        for i in range(1,len(subjects['sources'])+1):\n",
    "            key = f'S{i}'\n",
    "            mean = df[key]['mean_dist'].mean()\n",
    "            means_array = np.append(means_array, mean)\n",
    "        means_all[key] = means_array\n",
    "        means_array = np.empty(0)\n",
    "\n",
    "    elif (df == subjects['detectors']) & (i < 15):\n",
    "        for i in range(1,len(subjects['detectors'])+1):\n",
    "            key = f'D{i}'\n",
    "            mean = df[key]['mean_dist'].mean()\n",
    "            means_array = np.append(means_array, mean)\n",
    "        means_all[key] = means_array\n",
    "        means_array = np.empty(0)\n",
    "\n",
    "\n",
    "    elif (df == subjects['orientors']) & (i < 6):\n",
    "        for i in range(1,len(subjects['orientors'])+1):\n",
    "            key = orient_list[i-1]\n",
    "            mean = df[key]['mean_dist'].mean()\n",
    "            means_array = np.append(means_array, mean)\n",
    "        means_all[key] = means_array\n",
    "\n",
    "    means_array = np.empty(0)\n",
    "display(means_all)"
   ]
  },
  {
   "cell_type": "code",
   "execution_count": null,
   "metadata": {},
   "outputs": [],
   "source": []
  }
 ],
 "metadata": {
  "kernelspec": {
   "display_name": "Python 3",
   "language": "python",
   "name": "python3"
  },
  "language_info": {
   "codemirror_mode": {
    "name": "ipython",
    "version": 3
   },
   "file_extension": ".py",
   "mimetype": "text/x-python",
   "name": "python",
   "nbconvert_exporter": "python",
   "pygments_lexer": "ipython3",
   "version": "3.10.11"
  },
  "orig_nbformat": 4
 },
 "nbformat": 4,
 "nbformat_minor": 2
}
